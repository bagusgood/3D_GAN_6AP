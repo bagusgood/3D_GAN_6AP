{
  "nbformat": 4,
  "nbformat_minor": 0,
  "metadata": {
    "colab": {
      "provenance": [],
      "mount_file_id": "1Do1wur6ZthDouO_EYi-TOPNEl9p16b8Q",
      "authorship_tag": "ABX9TyPHwqt4p7oTl+g4h5ZRC22Y",
      "include_colab_link": true
    },
    "kernelspec": {
      "name": "python3",
      "display_name": "Python 3"
    },
    "language_info": {
      "name": "python"
    },
    "widgets": {
      "application/vnd.jupyter.widget-state+json": {
        "989998f04b9e46bcb9a0d40dc168a228": {
          "model_module": "@jupyter-widgets/controls",
          "model_name": "FloatSliderModel",
          "model_module_version": "1.5.0",
          "state": {
            "_dom_classes": [],
            "_model_module": "@jupyter-widgets/controls",
            "_model_module_version": "1.5.0",
            "_model_name": "FloatSliderModel",
            "_view_count": null,
            "_view_module": "@jupyter-widgets/controls",
            "_view_module_version": "1.5.0",
            "_view_name": "FloatSliderView",
            "continuous_update": true,
            "description": "",
            "description_tooltip": null,
            "disabled": false,
            "layout": "IPY_MODEL_40f1300d8fd446a0a4bd2b101e168efe",
            "max": 1,
            "min": 0.05,
            "orientation": "horizontal",
            "readout": true,
            "readout_format": ".2f",
            "step": 0.05,
            "style": "IPY_MODEL_5e87732d2dee4fa8825dadc9c47d9afe",
            "value": 0.25
          }
        },
        "40f1300d8fd446a0a4bd2b101e168efe": {
          "model_module": "@jupyter-widgets/base",
          "model_name": "LayoutModel",
          "model_module_version": "1.2.0",
          "state": {
            "_model_module": "@jupyter-widgets/base",
            "_model_module_version": "1.2.0",
            "_model_name": "LayoutModel",
            "_view_count": null,
            "_view_module": "@jupyter-widgets/base",
            "_view_module_version": "1.2.0",
            "_view_name": "LayoutView",
            "align_content": null,
            "align_items": null,
            "align_self": null,
            "border": null,
            "bottom": null,
            "display": null,
            "flex": null,
            "flex_flow": null,
            "grid_area": null,
            "grid_auto_columns": null,
            "grid_auto_flow": null,
            "grid_auto_rows": null,
            "grid_column": null,
            "grid_gap": null,
            "grid_row": null,
            "grid_template_areas": null,
            "grid_template_columns": null,
            "grid_template_rows": null,
            "height": null,
            "justify_content": null,
            "justify_items": null,
            "left": null,
            "margin": null,
            "max_height": null,
            "max_width": null,
            "min_height": null,
            "min_width": null,
            "object_fit": null,
            "object_position": null,
            "order": null,
            "overflow": null,
            "overflow_x": null,
            "overflow_y": null,
            "padding": null,
            "right": null,
            "top": null,
            "visibility": null,
            "width": null
          }
        },
        "5e87732d2dee4fa8825dadc9c47d9afe": {
          "model_module": "@jupyter-widgets/controls",
          "model_name": "SliderStyleModel",
          "model_module_version": "1.5.0",
          "state": {
            "_model_module": "@jupyter-widgets/controls",
            "_model_module_version": "1.5.0",
            "_model_name": "SliderStyleModel",
            "_view_count": null,
            "_view_module": "@jupyter-widgets/base",
            "_view_module_version": "1.2.0",
            "_view_name": "StyleView",
            "description_width": "",
            "handle_color": null
          }
        },
        "418abd4182fe424087f745cd487abb35": {
          "model_module": "@jupyter-widgets/controls",
          "model_name": "VBoxModel",
          "model_module_version": "1.5.0",
          "state": {
            "_dom_classes": [],
            "_model_module": "@jupyter-widgets/controls",
            "_model_module_version": "1.5.0",
            "_model_name": "VBoxModel",
            "_view_count": null,
            "_view_module": "@jupyter-widgets/controls",
            "_view_module_version": "1.5.0",
            "_view_name": "VBoxView",
            "box_style": "",
            "children": [
              "IPY_MODEL_55b9cea9969e48fbab640afdcf82a548"
            ],
            "layout": "IPY_MODEL_275a9ae335ce4496b7de5c96ee66474a"
          }
        },
        "55b9cea9969e48fbab640afdcf82a548": {
          "model_module": "@jupyter-widgets/controls",
          "model_name": "IntSliderModel",
          "model_module_version": "1.5.0",
          "state": {
            "_dom_classes": [],
            "_model_module": "@jupyter-widgets/controls",
            "_model_module_version": "1.5.0",
            "_model_name": "IntSliderModel",
            "_view_count": null,
            "_view_module": "@jupyter-widgets/controls",
            "_view_module_version": "1.5.0",
            "_view_name": "IntSliderView",
            "continuous_update": true,
            "description": "",
            "description_tooltip": null,
            "disabled": false,
            "layout": "IPY_MODEL_6caf5cf5c9bd41b8a32cced6aa5cd259",
            "max": 1000,
            "min": 0,
            "orientation": "horizontal",
            "readout": true,
            "readout_format": "d",
            "step": 250,
            "style": "IPY_MODEL_058b1539e2694bd1976029f7c546d883",
            "value": 250
          }
        },
        "275a9ae335ce4496b7de5c96ee66474a": {
          "model_module": "@jupyter-widgets/base",
          "model_name": "LayoutModel",
          "model_module_version": "1.2.0",
          "state": {
            "_model_module": "@jupyter-widgets/base",
            "_model_module_version": "1.2.0",
            "_model_name": "LayoutModel",
            "_view_count": null,
            "_view_module": "@jupyter-widgets/base",
            "_view_module_version": "1.2.0",
            "_view_name": "LayoutView",
            "align_content": null,
            "align_items": null,
            "align_self": null,
            "border": null,
            "bottom": null,
            "display": null,
            "flex": null,
            "flex_flow": null,
            "grid_area": null,
            "grid_auto_columns": null,
            "grid_auto_flow": null,
            "grid_auto_rows": null,
            "grid_column": null,
            "grid_gap": null,
            "grid_row": null,
            "grid_template_areas": null,
            "grid_template_columns": null,
            "grid_template_rows": null,
            "height": null,
            "justify_content": null,
            "justify_items": null,
            "left": null,
            "margin": null,
            "max_height": null,
            "max_width": null,
            "min_height": null,
            "min_width": null,
            "object_fit": null,
            "object_position": null,
            "order": null,
            "overflow": null,
            "overflow_x": null,
            "overflow_y": null,
            "padding": null,
            "right": null,
            "top": null,
            "visibility": null,
            "width": null
          }
        },
        "6caf5cf5c9bd41b8a32cced6aa5cd259": {
          "model_module": "@jupyter-widgets/base",
          "model_name": "LayoutModel",
          "model_module_version": "1.2.0",
          "state": {
            "_model_module": "@jupyter-widgets/base",
            "_model_module_version": "1.2.0",
            "_model_name": "LayoutModel",
            "_view_count": null,
            "_view_module": "@jupyter-widgets/base",
            "_view_module_version": "1.2.0",
            "_view_name": "LayoutView",
            "align_content": null,
            "align_items": null,
            "align_self": null,
            "border": null,
            "bottom": null,
            "display": null,
            "flex": null,
            "flex_flow": null,
            "grid_area": null,
            "grid_auto_columns": null,
            "grid_auto_flow": null,
            "grid_auto_rows": null,
            "grid_column": null,
            "grid_gap": null,
            "grid_row": null,
            "grid_template_areas": null,
            "grid_template_columns": null,
            "grid_template_rows": null,
            "height": null,
            "justify_content": null,
            "justify_items": null,
            "left": null,
            "margin": null,
            "max_height": null,
            "max_width": null,
            "min_height": null,
            "min_width": null,
            "object_fit": null,
            "object_position": null,
            "order": null,
            "overflow": null,
            "overflow_x": null,
            "overflow_y": null,
            "padding": null,
            "right": null,
            "top": null,
            "visibility": null,
            "width": null
          }
        },
        "058b1539e2694bd1976029f7c546d883": {
          "model_module": "@jupyter-widgets/controls",
          "model_name": "SliderStyleModel",
          "model_module_version": "1.5.0",
          "state": {
            "_model_module": "@jupyter-widgets/controls",
            "_model_module_version": "1.5.0",
            "_model_name": "SliderStyleModel",
            "_view_count": null,
            "_view_module": "@jupyter-widgets/base",
            "_view_module_version": "1.2.0",
            "_view_name": "StyleView",
            "description_width": "",
            "handle_color": null
          }
        },
        "e2dd802e17fb488b8de330ea6ba58e5a": {
          "model_module": "@jupyter-widgets/controls",
          "model_name": "CheckboxModel",
          "model_module_version": "1.5.0",
          "state": {
            "_dom_classes": [],
            "_model_module": "@jupyter-widgets/controls",
            "_model_module_version": "1.5.0",
            "_model_name": "CheckboxModel",
            "_view_count": null,
            "_view_module": "@jupyter-widgets/controls",
            "_view_module_version": "1.5.0",
            "_view_name": "CheckboxView",
            "description": "Generate missing data only",
            "description_tooltip": null,
            "disabled": false,
            "indent": true,
            "layout": "IPY_MODEL_79a22b70ef0d4904915d5962baa38990",
            "style": "IPY_MODEL_7ee2927cc6f04023aeec43fd0c5ff844",
            "value": false
          }
        },
        "79a22b70ef0d4904915d5962baa38990": {
          "model_module": "@jupyter-widgets/base",
          "model_name": "LayoutModel",
          "model_module_version": "1.2.0",
          "state": {
            "_model_module": "@jupyter-widgets/base",
            "_model_module_version": "1.2.0",
            "_model_name": "LayoutModel",
            "_view_count": null,
            "_view_module": "@jupyter-widgets/base",
            "_view_module_version": "1.2.0",
            "_view_name": "LayoutView",
            "align_content": null,
            "align_items": null,
            "align_self": null,
            "border": null,
            "bottom": null,
            "display": null,
            "flex": null,
            "flex_flow": null,
            "grid_area": null,
            "grid_auto_columns": null,
            "grid_auto_flow": null,
            "grid_auto_rows": null,
            "grid_column": null,
            "grid_gap": null,
            "grid_row": null,
            "grid_template_areas": null,
            "grid_template_columns": null,
            "grid_template_rows": null,
            "height": null,
            "justify_content": null,
            "justify_items": null,
            "left": null,
            "margin": null,
            "max_height": null,
            "max_width": null,
            "min_height": null,
            "min_width": null,
            "object_fit": null,
            "object_position": null,
            "order": null,
            "overflow": null,
            "overflow_x": null,
            "overflow_y": null,
            "padding": null,
            "right": null,
            "top": null,
            "visibility": null,
            "width": null
          }
        },
        "7ee2927cc6f04023aeec43fd0c5ff844": {
          "model_module": "@jupyter-widgets/controls",
          "model_name": "DescriptionStyleModel",
          "model_module_version": "1.5.0",
          "state": {
            "_model_module": "@jupyter-widgets/controls",
            "_model_module_version": "1.5.0",
            "_model_name": "DescriptionStyleModel",
            "_view_count": null,
            "_view_module": "@jupyter-widgets/base",
            "_view_module_version": "1.2.0",
            "_view_name": "StyleView",
            "description_width": ""
          }
        }
      }
    }
  },
  "cells": [
    {
      "cell_type": "markdown",
      "metadata": {
        "id": "view-in-github",
        "colab_type": "text"
      },
      "source": [
        "<a href=\"https://colab.research.google.com/github/bagusgood/3D_GAN_6AP/blob/main/GAN7AP.ipynb\" target=\"_parent\"><img src=\"https://colab.research.google.com/assets/colab-badge.svg\" alt=\"Open In Colab\"/></a>"
      ]
    },
    {
      "cell_type": "code",
      "execution_count": 10,
      "metadata": {
        "id": "BTrVchXvfqIX"
      },
      "outputs": [],
      "source": [
        "from keras.models import Sequential, Model\n",
        "from keras.layers import Input, Dense, Reshape, Flatten\n",
        "from keras.layers import BatchNormalization, LeakyReLU\n",
        "from keras.optimizers import Adam\n",
        "from keras.backend import clear_session\n",
        "from keras.utils import to_categorical\n",
        "from sklearn.utils import shuffle\n",
        "from sklearn.model_selection import train_test_split\n",
        "from sklearn.preprocessing import StandardScaler\n",
        "from sklearn.preprocessing import MinMaxScaler\n",
        "from tqdm import tqdm_notebook\n",
        "from tqdm import tqdm\n",
        "from numpy.random import seed\n",
        "import tensorflow as tf\n",
        "from IPython.display import display\n",
        "import pandas as pd\n",
        "import numpy as np\n",
        "import matplotlib.pyplot as plt\n",
        "import ipywidgets as widgets"
      ]
    },
    {
      "cell_type": "code",
      "source": [
        "#Data Parameters\n",
        "num_of_classes = 20\n",
        "data_shape = (6,1)\n",
        "\n",
        "#MLP Parameters\n",
        "times_to_run = 50 #Number of times to run MLP model\n",
        "mlp_epochs = 40\n",
        "valid_split = 0.20\n",
        "\n",
        "#GAN Parameters\n",
        "latent_dim = 100\n",
        "gan_epochs = 100\n",
        "\n",
        "#Random Seeds\n",
        "selection_seed = 150\n",
        "seed_multiplier = 1000"
      ],
      "metadata": {
        "id": "ovPF25bGfsF6"
      },
      "execution_count": 62,
      "outputs": []
    },
    {
      "cell_type": "code",
      "source": [
        "dataset = pd.read_csv(\"drive/MyDrive/6AP_1stFloor.csv\")\n",
        "labels = dataset.Class.values\n",
        "labels = labels - 1 #Original label values are from 1 to 4\n",
        "features = dataset.drop(columns='Class').values"
      ],
      "metadata": {
        "id": "COSTqCv7fy_X"
      },
      "execution_count": 63,
      "outputs": []
    },
    {
      "cell_type": "code",
      "source": [
        "tr_fea, X_test, tr_label, Y_test = train_test_split(features,\n",
        "                                                    labels,\n",
        "                                                    test_size=0.5,\n",
        "                                                    random_state= selection_seed,\n",
        "                                                    stratify=labels)"
      ],
      "metadata": {
        "id": "Nql3W8DUf7_H"
      },
      "execution_count": 64,
      "outputs": []
    },
    {
      "cell_type": "code",
      "source": [
        "cb1 = widgets.Checkbox(description=\"Generate missing data only\")\n",
        "slider1 = widgets.FloatSlider(value=0.1, min=0.05, max=1, step=0.05)\n",
        "slider2 = widgets.IntSlider(value=250, min=0, max=1000, step=250)\n",
        "vb = widgets.VBox(children = [slider2])\n",
        "def checkbox(button):\n",
        "    if button['new']:\n",
        "        vb.children = []\n",
        "        slider2.value = 250 - int(slider1.value*250)\n",
        "    else:\n",
        "        vb.children = [slider2]\n",
        "        experiment3 = False\n",
        "cb1.observe(checkbox, names='value')\n",
        "\n",
        "print(\"Percentage of Real Data:\")\n",
        "display(slider1)\n",
        "print(\"Number of datapoints GAN generates:\")\n",
        "display(vb)\n",
        "display(cb1)"
      ],
      "metadata": {
        "colab": {
          "base_uri": "https://localhost:8080/",
          "height": 148,
          "referenced_widgets": [
            "989998f04b9e46bcb9a0d40dc168a228",
            "40f1300d8fd446a0a4bd2b101e168efe",
            "5e87732d2dee4fa8825dadc9c47d9afe",
            "418abd4182fe424087f745cd487abb35",
            "55b9cea9969e48fbab640afdcf82a548",
            "275a9ae335ce4496b7de5c96ee66474a",
            "6caf5cf5c9bd41b8a32cced6aa5cd259",
            "058b1539e2694bd1976029f7c546d883",
            "e2dd802e17fb488b8de330ea6ba58e5a",
            "79a22b70ef0d4904915d5962baa38990",
            "7ee2927cc6f04023aeec43fd0c5ff844"
          ]
        },
        "id": "hFkjsvKdisdF",
        "outputId": "a0c32013-2a7e-4eba-b6c5-204348196ae0"
      },
      "execution_count": 65,
      "outputs": [
        {
          "output_type": "stream",
          "name": "stdout",
          "text": [
            "Percentage of Real Data:\n"
          ]
        },
        {
          "output_type": "display_data",
          "data": {
            "text/plain": [
              "FloatSlider(value=0.1, max=1.0, min=0.05, step=0.05)"
            ],
            "application/vnd.jupyter.widget-view+json": {
              "version_major": 2,
              "version_minor": 0,
              "model_id": "989998f04b9e46bcb9a0d40dc168a228"
            }
          },
          "metadata": {}
        },
        {
          "output_type": "stream",
          "name": "stdout",
          "text": [
            "Number of datapoints GAN generates:\n"
          ]
        },
        {
          "output_type": "display_data",
          "data": {
            "text/plain": [
              "VBox(children=(IntSlider(value=250, max=1000, step=250),))"
            ],
            "application/vnd.jupyter.widget-view+json": {
              "version_major": 2,
              "version_minor": 0,
              "model_id": "418abd4182fe424087f745cd487abb35"
            }
          },
          "metadata": {}
        },
        {
          "output_type": "display_data",
          "data": {
            "text/plain": [
              "Checkbox(value=False, description='Generate missing data only')"
            ],
            "application/vnd.jupyter.widget-view+json": {
              "version_major": 2,
              "version_minor": 0,
              "model_id": "e2dd802e17fb488b8de330ea6ba58e5a"
            }
          },
          "metadata": {}
        }
      ]
    },
    {
      "cell_type": "code",
      "source": [
        "fraction_of_data = slider1.value\n",
        "data_to_gen = slider2.value\n",
        "\n",
        "X_train = []\n",
        "Z_train = [] #This is the same as X_train, but it's used for training the GAN\n",
        "Y_train = []\n",
        "\n",
        "for idx in range(20):\n",
        "    number_filter = np.where(tr_label == idx)\n",
        "    X_filtered, Y_filtered = tr_fea[number_filter], tr_label[number_filter]\n",
        "\n",
        "    num_of_data = (int)(fraction_of_data*X_filtered.shape[0])\n",
        "    RandIndex = np.random.choice(X_filtered.shape[0],\n",
        "                                 num_of_data,\n",
        "                                 replace=False)\n",
        "    Z_train.append(X_filtered[RandIndex])\n",
        "    X_train.extend(X_filtered[RandIndex])\n",
        "    Y_train.extend(Y_filtered[RandIndex])\n",
        "\n",
        "X_train = np.asarray(X_train, dtype=np.float32)\n",
        "Y_train = np.asarray(Y_train, dtype=np.float32)\n",
        "\n",
        "X_train, Y_train = shuffle(X_train, Y_train)\n",
        "\n",
        "Y_train_encoded = to_categorical(Y_train)\n",
        "Y_test_encoded = to_categorical(Y_test)"
      ],
      "metadata": {
        "id": "reKyHp3AgBcM"
      },
      "execution_count": 66,
      "outputs": []
    },
    {
      "cell_type": "code",
      "source": [
        "#Data must be standized using standard scaler before using the MLP.\n",
        "scaler = StandardScaler()\n",
        "X_train_transformed = scaler.fit_transform(X_train)\n",
        "X_test_transformed = scaler.fit_transform(X_test)"
      ],
      "metadata": {
        "id": "B2aWdr25gEIB"
      },
      "execution_count": 67,
      "outputs": []
    },
    {
      "cell_type": "code",
      "source": [
        "all_test_loss =[]\n",
        "all_test_acc = []\n",
        "history = []\n",
        "\n",
        "for i in tqdm_notebook(range(times_to_run)):\n",
        "    seed(i*seed_multiplier)\n",
        "    tf.random.set_seed(i*seed_multiplier)\n",
        "\n",
        "    model = Sequential()\n",
        "    model.add(Dense(512, input_shape=(6,), activation='relu'))\n",
        "    model.add(Dense(256, activation='relu'))\n",
        "    model.add(Dense(128, activation='relu'))\n",
        "    model.add(Dense(64, activation='relu'))\n",
        "    model.add(Dense(32, activation='relu'))\n",
        "    model.add(Dense(20, activation='softmax'))\n",
        "\n",
        "    model.compile(optimizer=Adam(0.0002, 0.5),\n",
        "                  loss='categorical_crossentropy',\n",
        "                  metrics=['accuracy'])\n",
        "\n",
        "    history_temp = model.fit(X_train_transformed,\n",
        "                            Y_train_encoded,\n",
        "                            epochs=mlp_epochs,\n",
        "                            batch_size=64,\n",
        "                            validation_split=valid_split,\n",
        "                            verbose=0)\n",
        "    history.append(history_temp)\n",
        "    test_loss, test_acc = model.evaluate(X_test_transformed,\n",
        "                                         Y_test_encoded,\n",
        "                                         verbose=0)\n",
        "\n",
        "    print(\"#{} Test acc:\".format(i), test_acc)\n",
        "\n",
        "    all_test_acc.append(test_acc)\n",
        "    all_test_loss.append(test_loss)\n",
        "    del(model)\n",
        "    clear_session()\n",
        "\n",
        "def average(lst):\n",
        "    return sum(lst) / len(lst)\n",
        "\n",
        "avr = round(average(all_test_acc),3)\n",
        "print(\"AVERAGE TEST ACCURACY : \",avr)"
      ],
      "metadata": {
        "id": "CNTWRgoAgHaC"
      },
      "execution_count": null,
      "outputs": []
    },
    {
      "cell_type": "code",
      "source": [
        "trainacc = []\n",
        "trainloss = []\n",
        "valacc = []\n",
        "valloss = []\n",
        "for i in range (len(history)):\n",
        "    trainacc.append(history[i].history['accuracy'])\n",
        "    trainloss.append(history[i].history['loss'])\n",
        "    valacc.append(history[i].history['val_accuracy'])\n",
        "    valloss.append(history[i].history['val_loss'])\n",
        "\n",
        "acc = np.mean(trainacc, axis=0)\n",
        "val_acc = np.mean(valacc, axis=0)\n",
        "loss = np.mean(trainloss, axis=0)\n",
        "val_loss = np.mean(valloss, axis=0)\n",
        "epochs = range(1, len(acc) + 1)\n",
        "\n",
        "plt.plot(epochs, acc, 'bo', label='Training acc')\n",
        "plt.plot(epochs, val_acc, 'b', label='Validation acc')\n",
        "plt.title('Training and validation accuracy for {}%'.format(fraction_of_data*100))\n",
        "plt.legend()\n",
        "plt.figure()\n",
        "plt.plot(epochs, loss, 'bo', label='Training loss')\n",
        "plt.plot(epochs, val_loss, 'b', label='Validation loss')\n",
        "plt.title('Training and validation loss for {}%'.format(fraction_of_data*100))\n",
        "plt.legend()\n",
        "plt.savefig(\"Train - {}%.png\".format(fraction_of_data*100))"
      ],
      "metadata": {
        "id": "Jd5bFoCJgLEu"
      },
      "execution_count": null,
      "outputs": []
    },
    {
      "cell_type": "code",
      "source": [
        "def build_generator():\n",
        "    model = Sequential()\n",
        "\n",
        "    model.add(Dense(256, input_dim=latent_dim))\n",
        "    model.add(LeakyReLU(alpha=0.2))\n",
        "    model.add(BatchNormalization(momentum=0.8))\n",
        "    model.add(Dense(512))\n",
        "    model.add(LeakyReLU(alpha=0.2))\n",
        "    model.add(BatchNormalization(momentum=0.8))\n",
        "    model.add(Dense(1024))\n",
        "    model.add(LeakyReLU(alpha=0.2))\n",
        "    model.add(BatchNormalization(momentum=0.8))\n",
        "    model.add(Dense(np.prod(data_shape), activation='tanh'))\n",
        "    model.add(Reshape(data_shape))\n",
        "\n",
        "    #model.summary()\n",
        "\n",
        "    noise = Input(shape=(latent_dim,))\n",
        "    gendata = model(noise)\n",
        "\n",
        "    return Model(noise, gendata)\n",
        "\n",
        "def build_discriminator():\n",
        "\n",
        "    model = Sequential()\n",
        "\n",
        "    model.add(Flatten(input_shape=data_shape))\n",
        "    model.add(Dense(512))\n",
        "    model.add(LeakyReLU(alpha=0.2))\n",
        "    model.add(Dense(256))\n",
        "    model.add(LeakyReLU(alpha=0.2))\n",
        "    model.add(Dense(1, activation='sigmoid'))\n",
        "\n",
        "    #model.summary()\n",
        "\n",
        "    data = Input(shape=data_shape)\n",
        "    validity = model(data)\n",
        "\n",
        "    return Model(data, validity)\n",
        "\n",
        "def train(epochs, features, batch_size=128):\n",
        "\n",
        "    valid = np.ones((batch_size, 1))\n",
        "    fake = np.zeros((batch_size, 1))\n",
        "\n",
        "    for epoch in range(epochs):\n",
        "            idx = np.random.randint(0, features.shape[0], batch_size)\n",
        "            data = features[idx]\n",
        "\n",
        "            noise = np.random.normal(0, 1, (batch_size, latent_dim))\n",
        "            gen_data = generator.predict(noise)\n",
        "\n",
        "            d_loss_real = discriminator.train_on_batch(data, valid)\n",
        "            d_loss_fake = discriminator.train_on_batch(gen_data, fake)\n",
        "            d_loss = 0.5 * np.add(d_loss_real, d_loss_fake)\n",
        "\n",
        "            noise = np.random.normal(0, 1, (batch_size, latent_dim))\n",
        "            g_loss = combined.train_on_batch(noise, valid)\n",
        "\n",
        "            # Print progress\n",
        "            if gan_epochs % 10 == 0:\n",
        "              print(f\"Epoch: {epoch}, Discriminator Loss: {d_loss[0]}, Generator Loss: {g_loss}\")"
      ],
      "metadata": {
        "id": "8z4s-mYFgO9H"
      },
      "execution_count": 112,
      "outputs": []
    },
    {
      "cell_type": "code",
      "source": [
        "gen_data = []\n",
        "\n",
        "for i in tqdm(range(num_of_classes)):\n",
        "    discriminator = build_discriminator()\n",
        "    discriminator.compile(loss='binary_crossentropy',\n",
        "                          optimizer=Adam(0.0002, 0.5),\n",
        "                          metrics=['accuracy'])\n",
        "\n",
        "    generator = build_generator()\n",
        "    noise = Input(shape=(latent_dim,))\n",
        "    gendata = generator(noise)\n",
        "    discriminator.trainable = False\n",
        "    validity = discriminator(gendata)\n",
        "    combined = Model(noise, validity)\n",
        "    combined.compile(loss='binary_crossentropy',\n",
        "                    optimizer=Adam(0.0002, 0.5))\n",
        "\n",
        "    minimaxscaler = MinMaxScaler((-1,1))\n",
        "    Z_train_transformed = minimaxscaler.fit_transform(Z_train[i])\n",
        "    Z_train_transformed = np.expand_dims(Z_train_transformed, axis=2)\n",
        "\n",
        "    train(epochs=gan_epochs,\n",
        "          features=Z_train_transformed,\n",
        "          batch_size=64)\n",
        "\n",
        "    noise = np.random.normal(0, 1, (data_to_gen, latent_dim))\n",
        "    gen_data_temp = generator.predict(noise)\n",
        "    gen_data_temp = np.asarray(gen_data_temp, dtype=np.float32)\n",
        "    gen_data_temp = np.squeeze(gen_data_temp)\n",
        "    gen_data_temp = minimaxscaler.inverse_transform(gen_data_temp)\n",
        "\n",
        "    gen_data.append(gen_data_temp)\n",
        "\n",
        "    clear_session()\n",
        "    del(discriminator)\n",
        "    del(generator)\n",
        "    del(combined)\n",
        "\n",
        "gen_data = np.asarray(gen_data, dtype=np.float32)"
      ],
      "metadata": {
        "id": "EfVqEgaugZK8"
      },
      "execution_count": null,
      "outputs": []
    },
    {
      "cell_type": "code",
      "source": [
        "gen_label = []\n",
        "for i in range(20):\n",
        "    gen_label_temp = np.tile(i, data_to_gen)\n",
        "    gen_label.extend(gen_label_temp)\n",
        "\n",
        "gen_label = np.asarray(gen_label, dtype=np.float32)\n",
        "gen_label_encoded = to_categorical(gen_label)\n",
        "\n",
        "gen_data_reshaped = gen_data.reshape(num_of_classes*data_to_gen, data_shape[0])\n",
        "\n",
        "X_train_gan, Y_train_gan = shuffle(gen_data_reshaped,\n",
        "                                   gen_label_encoded,\n",
        "                                   random_state=5)\n",
        "\n",
        "new_x_train = np.concatenate((X_train, X_train_gan), axis=0)\n",
        "new_y_train = np.concatenate((Y_train_encoded, Y_train_gan), axis=0)\n",
        "\n",
        "new_x_train, new_y_train = shuffle(new_x_train, new_y_train, random_state=15)\n",
        "new_x_train_transformed = scaler.fit_transform(new_x_train)"
      ],
      "metadata": {
        "id": "ud4ryMhZgZ-e"
      },
      "execution_count": 114,
      "outputs": []
    },
    {
      "cell_type": "code",
      "source": [
        "all_test_loss_gan =[]\n",
        "all_test_acc_gan = []\n",
        "ganhistory = []\n",
        "\n",
        "for i in tqdm_notebook(range(50)):\n",
        "    seed(i*seed_multiplier)\n",
        "    tf.random.set_seed(i*seed_multiplier)\n",
        "\n",
        "    model = Sequential()\n",
        "    model.add(Dense(512, input_shape=(6,), activation='relu'))\n",
        "    model.add(Dense(256, activation='relu'))\n",
        "    model.add(Dense(128, activation='relu'))\n",
        "    model.add(Dense(64, activation='relu'))\n",
        "    model.add(Dense(32, activation='relu'))\n",
        "    model.add(Dense(20, activation='softmax'))\n",
        "\n",
        "    model.compile(optimizer=Adam(0.0002, 0.5),\n",
        "                  loss='categorical_crossentropy',\n",
        "                  metrics=['accuracy'])\n",
        "\n",
        "    ganhistorytemp = model.fit(new_x_train_transformed,\n",
        "                    new_y_train,\n",
        "                    epochs=mlp_epochs,\n",
        "                    batch_size=64,\n",
        "                    validation_split=valid_split,\n",
        "                    verbose = 0)\n",
        "    ganhistory.append(ganhistorytemp)\n",
        "\n",
        "    test_loss, test_acc = model.evaluate(X_test_transformed,\n",
        "                                         Y_test_encoded,\n",
        "                                         verbose=0)\n",
        "    print(\"#{} Test acc:\".format(i), test_acc)\n",
        "\n",
        "    all_test_acc_gan.append(test_acc)\n",
        "    all_test_loss_gan.append(test_loss)\n",
        "    del(model)\n",
        "    clear_session()\n",
        "\n",
        "def average(lst):\n",
        "    return sum(lst) / len(lst)\n",
        "\n",
        "avr = round(average(all_test_acc_gan),3)\n",
        "print(\"AVERAGE TEST ACCURACY : \",avr)"
      ],
      "metadata": {
        "id": "AILzj9ipBVRY"
      },
      "execution_count": null,
      "outputs": []
    },
    {
      "cell_type": "code",
      "source": [
        "gantrainacc = []\n",
        "gantrainloss = []\n",
        "ganvalacc = []\n",
        "ganvalloss = []\n",
        "for i in range (len(ganhistory)):\n",
        "    gantrainacc.append(ganhistory[i].history['accuracy'])\n",
        "    gantrainloss.append(ganhistory[i].history['loss'])\n",
        "    ganvalacc.append(ganhistory[i].history['val_accuracy'])\n",
        "    ganvalloss.append(ganhistory[i].history['val_loss'])\n",
        "\n",
        "gan_acc = np.mean(gantrainacc, axis=0)\n",
        "gan_val_acc = np.mean(ganvalacc, axis=0)\n",
        "gan_loss = np.mean(gantrainloss, axis=0)\n",
        "gan_val_loss = np.mean(ganvalloss, axis=0)\n",
        "epochs = range(1, len(gan_acc) + 1)\n",
        "plt.plot(epochs, gan_acc, 'bo', label='Training acc')\n",
        "plt.plot(epochs, gan_val_acc, 'b', label='Validation acc')\n",
        "plt.title('Training and validation accuracy for {}%'.format(fraction_of_data*100))\n",
        "plt.legend()\n",
        "plt.savefig(\"GANTrainAcc - {}%.png\".format(fraction_of_data*100))\n",
        "plt.figure()\n",
        "plt.plot(epochs, gan_loss, 'bo', label='Training loss')\n",
        "plt.plot(epochs, gan_val_loss, 'b', label='Validation loss')\n",
        "plt.title('Training and validation loss for {}%'.format(fraction_of_data*100))\n",
        "plt.legend()\n",
        "plt.savefig(\"GANTrainLoss - {}%.png\".format(fraction_of_data*100))"
      ],
      "metadata": {
        "id": "TZBfE78OBmJc"
      },
      "execution_count": null,
      "outputs": []
    },
    {
      "cell_type": "code",
      "source": [
        "plt.plot(epochs, acc, 'bo', label='Real Training')\n",
        "plt.plot(epochs, val_acc, 'b', label='Real Validation')\n",
        "plt.plot(epochs, gan_acc, 'ro', label='Real+GAN Training')\n",
        "plt.plot(epochs, gan_val_acc, 'r', label='Real+GAN Validation')\n",
        "plt.title('Training and validation accuracy for {}%'.format(fraction_of_data*100))\n",
        "plt.legend()\n",
        "plt.savefig(\"GANREALAcc - {}%.png\".format(fraction_of_data*100))\n",
        "plt.figure()\n",
        "plt.plot(epochs, loss, 'bo', label='Real Training')\n",
        "plt.plot(epochs, val_loss, 'b', label='Real Validation')\n",
        "plt.plot(epochs, gan_loss, 'ro', label='Real+GAN Training')\n",
        "plt.plot(epochs, gan_val_loss, 'r', label='Real+GAN Validation')\n",
        "plt.title('Training and validation loss for {}%'.format(fraction_of_data*100))\n",
        "plt.legend()\n",
        "plt.savefig(\"GANREALLoss - {}%.png\".format(fraction_of_data*100))"
      ],
      "metadata": {
        "id": "F-sZFNZgDYFm"
      },
      "execution_count": null,
      "outputs": []
    }
  ]
}